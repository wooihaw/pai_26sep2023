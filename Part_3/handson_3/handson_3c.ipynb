{
 "cells": [
  {
   "cell_type": "markdown",
   "id": "9acdec19",
   "metadata": {},
   "source": [
    "## Hands-on 3C \n",
    "#### Build 3 classification models to classify faulty steel plates. The dataset contains information about steel plates and their faults. There are 27 features and the data samples have been classified into 7 different types of steel plate faults."
   ]
  },
  {
   "cell_type": "code",
   "execution_count": 1,
   "id": "6481264f",
   "metadata": {},
   "outputs": [],
   "source": [
    "# Initialization\n",
    "%matplotlib inline\n",
    "from warnings import filterwarnings\n",
    "filterwarnings('ignore')"
   ]
  },
  {
   "cell_type": "code",
   "execution_count": 2,
   "id": "1ae13063",
   "metadata": {},
   "outputs": [],
   "source": [
    "# Load the required libraries\n",
    "from pandas import read_csv\n",
    "from sklearn.model_selection import train_test_split as split, KFold, cross_val_score\n",
    "from sklearn.linear_model import LogisticRegression\n",
    "from sklearn.tree import DecisionTreeClassifier\n",
    "from sklearn.neighbors import KNeighborsClassifier\n",
    "from sklearn.preprocessing import StandardScaler\n",
    "from sklearn.decomposition import PCA"
   ]
  },
  {
   "cell_type": "markdown",
   "id": "03f7be1f",
   "metadata": {},
   "source": [
    "To do:\n",
    "- Load the dataset from \"steel_faults.csv\""
   ]
  },
  {
   "cell_type": "code",
   "execution_count": 3,
   "id": "5dbfb794",
   "metadata": {},
   "outputs": [],
   "source": [
    "df = read_csv(\"steel_faults.csv\")"
   ]
  },
  {
   "cell_type": "markdown",
   "id": "f1ac88e3",
   "metadata": {},
   "source": [
    "To do: \n",
    "- Print 5 random data samples from the dataset"
   ]
  },
  {
   "cell_type": "code",
   "execution_count": 4,
   "id": "a3f0b6ab",
   "metadata": {},
   "outputs": [
    {
     "data": {
      "text/html": [
       "<div>\n",
       "<style scoped>\n",
       "    .dataframe tbody tr th:only-of-type {\n",
       "        vertical-align: middle;\n",
       "    }\n",
       "\n",
       "    .dataframe tbody tr th {\n",
       "        vertical-align: top;\n",
       "    }\n",
       "\n",
       "    .dataframe thead th {\n",
       "        text-align: right;\n",
       "    }\n",
       "</style>\n",
       "<table border=\"1\" class=\"dataframe\">\n",
       "  <thead>\n",
       "    <tr style=\"text-align: right;\">\n",
       "      <th></th>\n",
       "      <th>X_Minimum</th>\n",
       "      <th>X_Maximum</th>\n",
       "      <th>Y_Minimum</th>\n",
       "      <th>Y_Maximum</th>\n",
       "      <th>Pixels_Areas</th>\n",
       "      <th>X_Perimeter</th>\n",
       "      <th>Y_Perimeter</th>\n",
       "      <th>Sum_of_Luminosity</th>\n",
       "      <th>Minimum_of_Luminosity</th>\n",
       "      <th>Maximum_of_Luminosity</th>\n",
       "      <th>...</th>\n",
       "      <th>Edges_X_Index</th>\n",
       "      <th>Edges_Y_Index</th>\n",
       "      <th>Outside_Global_Index</th>\n",
       "      <th>LogOfAreas</th>\n",
       "      <th>Log_X_Index</th>\n",
       "      <th>Log_Y_Index</th>\n",
       "      <th>Orientation_Index</th>\n",
       "      <th>Luminosity_Index</th>\n",
       "      <th>SigmoidOfAreas</th>\n",
       "      <th>Fault</th>\n",
       "    </tr>\n",
       "  </thead>\n",
       "  <tbody>\n",
       "    <tr>\n",
       "      <th>1817</th>\n",
       "      <td>1170</td>\n",
       "      <td>1176</td>\n",
       "      <td>745366</td>\n",
       "      <td>745380</td>\n",
       "      <td>68</td>\n",
       "      <td>15</td>\n",
       "      <td>14</td>\n",
       "      <td>7859</td>\n",
       "      <td>106</td>\n",
       "      <td>127</td>\n",
       "      <td>...</td>\n",
       "      <td>0.4000</td>\n",
       "      <td>1.0000</td>\n",
       "      <td>1.0</td>\n",
       "      <td>1.8325</td>\n",
       "      <td>0.7782</td>\n",
       "      <td>1.1461</td>\n",
       "      <td>0.5714</td>\n",
       "      <td>-0.0971</td>\n",
       "      <td>0.1892</td>\n",
       "      <td>Other_Faults</td>\n",
       "    </tr>\n",
       "    <tr>\n",
       "      <th>672</th>\n",
       "      <td>39</td>\n",
       "      <td>210</td>\n",
       "      <td>2449833</td>\n",
       "      <td>2449893</td>\n",
       "      <td>5816</td>\n",
       "      <td>273</td>\n",
       "      <td>132</td>\n",
       "      <td>618320</td>\n",
       "      <td>51</td>\n",
       "      <td>127</td>\n",
       "      <td>...</td>\n",
       "      <td>0.6264</td>\n",
       "      <td>0.4545</td>\n",
       "      <td>0.0</td>\n",
       "      <td>3.7646</td>\n",
       "      <td>2.2330</td>\n",
       "      <td>1.7781</td>\n",
       "      <td>-0.6491</td>\n",
       "      <td>-0.1694</td>\n",
       "      <td>1.0000</td>\n",
       "      <td>K_Scatch</td>\n",
       "    </tr>\n",
       "    <tr>\n",
       "      <th>690</th>\n",
       "      <td>41</td>\n",
       "      <td>218</td>\n",
       "      <td>2840169</td>\n",
       "      <td>2840236</td>\n",
       "      <td>6503</td>\n",
       "      <td>264</td>\n",
       "      <td>135</td>\n",
       "      <td>677593</td>\n",
       "      <td>40</td>\n",
       "      <td>124</td>\n",
       "      <td>...</td>\n",
       "      <td>0.6704</td>\n",
       "      <td>0.4963</td>\n",
       "      <td>0.0</td>\n",
       "      <td>3.8131</td>\n",
       "      <td>2.2480</td>\n",
       "      <td>1.8261</td>\n",
       "      <td>-0.6215</td>\n",
       "      <td>-0.1860</td>\n",
       "      <td>1.0000</td>\n",
       "      <td>K_Scatch</td>\n",
       "    </tr>\n",
       "    <tr>\n",
       "      <th>1363</th>\n",
       "      <td>867</td>\n",
       "      <td>1104</td>\n",
       "      <td>949655</td>\n",
       "      <td>949669</td>\n",
       "      <td>1695</td>\n",
       "      <td>247</td>\n",
       "      <td>106</td>\n",
       "      <td>197365</td>\n",
       "      <td>103</td>\n",
       "      <td>132</td>\n",
       "      <td>...</td>\n",
       "      <td>0.9595</td>\n",
       "      <td>0.1321</td>\n",
       "      <td>0.0</td>\n",
       "      <td>3.2292</td>\n",
       "      <td>2.3747</td>\n",
       "      <td>1.1461</td>\n",
       "      <td>-0.9409</td>\n",
       "      <td>-0.0903</td>\n",
       "      <td>1.0000</td>\n",
       "      <td>Other_Faults</td>\n",
       "    </tr>\n",
       "    <tr>\n",
       "      <th>1791</th>\n",
       "      <td>209</td>\n",
       "      <td>259</td>\n",
       "      <td>9649727</td>\n",
       "      <td>9649771</td>\n",
       "      <td>1182</td>\n",
       "      <td>87</td>\n",
       "      <td>71</td>\n",
       "      <td>130201</td>\n",
       "      <td>96</td>\n",
       "      <td>127</td>\n",
       "      <td>...</td>\n",
       "      <td>0.5747</td>\n",
       "      <td>0.6197</td>\n",
       "      <td>0.0</td>\n",
       "      <td>3.0726</td>\n",
       "      <td>1.6990</td>\n",
       "      <td>1.6435</td>\n",
       "      <td>-0.1200</td>\n",
       "      <td>-0.1394</td>\n",
       "      <td>1.0000</td>\n",
       "      <td>Other_Faults</td>\n",
       "    </tr>\n",
       "  </tbody>\n",
       "</table>\n",
       "<p>5 rows × 28 columns</p>\n",
       "</div>"
      ],
      "text/plain": [
       "      X_Minimum  X_Maximum  Y_Minimum  Y_Maximum  Pixels_Areas  X_Perimeter  \\\n",
       "1817       1170       1176     745366     745380            68           15   \n",
       "672          39        210    2449833    2449893          5816          273   \n",
       "690          41        218    2840169    2840236          6503          264   \n",
       "1363        867       1104     949655     949669          1695          247   \n",
       "1791        209        259    9649727    9649771          1182           87   \n",
       "\n",
       "      Y_Perimeter  Sum_of_Luminosity  Minimum_of_Luminosity  \\\n",
       "1817           14               7859                    106   \n",
       "672           132             618320                     51   \n",
       "690           135             677593                     40   \n",
       "1363          106             197365                    103   \n",
       "1791           71             130201                     96   \n",
       "\n",
       "      Maximum_of_Luminosity  ...  Edges_X_Index  Edges_Y_Index  \\\n",
       "1817                    127  ...         0.4000         1.0000   \n",
       "672                     127  ...         0.6264         0.4545   \n",
       "690                     124  ...         0.6704         0.4963   \n",
       "1363                    132  ...         0.9595         0.1321   \n",
       "1791                    127  ...         0.5747         0.6197   \n",
       "\n",
       "      Outside_Global_Index  LogOfAreas  Log_X_Index  Log_Y_Index  \\\n",
       "1817                   1.0      1.8325       0.7782       1.1461   \n",
       "672                    0.0      3.7646       2.2330       1.7781   \n",
       "690                    0.0      3.8131       2.2480       1.8261   \n",
       "1363                   0.0      3.2292       2.3747       1.1461   \n",
       "1791                   0.0      3.0726       1.6990       1.6435   \n",
       "\n",
       "      Orientation_Index  Luminosity_Index  SigmoidOfAreas         Fault  \n",
       "1817             0.5714           -0.0971          0.1892  Other_Faults  \n",
       "672             -0.6491           -0.1694          1.0000      K_Scatch  \n",
       "690             -0.6215           -0.1860          1.0000      K_Scatch  \n",
       "1363            -0.9409           -0.0903          1.0000  Other_Faults  \n",
       "1791            -0.1200           -0.1394          1.0000  Other_Faults  \n",
       "\n",
       "[5 rows x 28 columns]"
      ]
     },
     "execution_count": 4,
     "metadata": {},
     "output_type": "execute_result"
    }
   ],
   "source": [
    "df.sample(5)"
   ]
  },
  {
   "cell_type": "markdown",
   "id": "c01cb8e5",
   "metadata": {},
   "source": [
    "To do:\n",
    "- Separate the dataset into features (X) and targets (y)"
   ]
  },
  {
   "cell_type": "code",
   "execution_count": 5,
   "id": "60dcdb69",
   "metadata": {},
   "outputs": [],
   "source": [
    "X = df.drop(columns=['Fault'])\n",
    "y = df['Fault']"
   ]
  },
  {
   "cell_type": "markdown",
   "id": "a354ee9c",
   "metadata": {},
   "source": [
    "To do: \n",
    "- Evaluate the performance of k-Nearest Neighbors, Logistic Regression and Decision Tree on this dataset using 5-fold cross validation."
   ]
  },
  {
   "cell_type": "code",
   "execution_count": 6,
   "id": "89c13b59",
   "metadata": {},
   "outputs": [
    {
     "name": "stdout",
     "output_type": "stream",
     "text": [
      "knn: 46.368%, 3.167%\n",
      "dtc: 70.736%, 2.008%\n",
      "lgr: 45.646%, 2.028%\n"
     ]
    }
   ],
   "source": [
    "# Use spot-checking to quickly evaluate the performance of 3 classifiers\n",
    "models = {}\n",
    "models['knn'] = KNeighborsClassifier()\n",
    "models['dtc'] = DecisionTreeClassifier(random_state=42)\n",
    "models['lgr'] = LogisticRegression()\n",
    "\n",
    "kf = KFold(n_splits=5, shuffle=True, random_state=42)\n",
    "for m in models:\n",
    "    scores = cross_val_score(models[m], X, y, cv=kf, n_jobs=-1)\n",
    "    print(f\"{m}: {scores.mean():.3%}, {scores.std():.3%}\")"
   ]
  },
  {
   "cell_type": "markdown",
   "id": "6b870137",
   "metadata": {},
   "source": [
    "To do: \n",
    "- Peform feature scaling using standard scaler. Evaluate the performance of k-Nearest Neighbors, Logistic Regression and Decision Tree on the scaled features using 5-fold cross validation."
   ]
  },
  {
   "cell_type": "code",
   "execution_count": 7,
   "id": "dd8607c8",
   "metadata": {},
   "outputs": [
    {
     "name": "stdout",
     "output_type": "stream",
     "text": [
      "After feature scaling\n",
      "knn: 73.983%, 2.111%\n",
      "dtc: 70.684%, 2.033%\n",
      "lgr: 71.302%, 3.089%\n"
     ]
    }
   ],
   "source": [
    "scl = StandardScaler()\n",
    "Xs = scl.fit_transform(X)\n",
    "\n",
    "print(\"After feature scaling\")\n",
    "for m in models:\n",
    "    scores = cross_val_score(models[m], Xs, y, cv=kf, n_jobs=-1)\n",
    "    print(f\"{m}: {scores.mean():.3%}, {scores.std():.3%}\")"
   ]
  },
  {
   "cell_type": "markdown",
   "id": "29c9798a",
   "metadata": {},
   "source": [
    "To do: \n",
    "- Use Principle Component Analysis (PCA) to reduce the dimensionality of the scaled features to 13. Evaluate the performance of k-Nearest Neighbors, Logistic Regression and Decision Tree on these features using 5-fold cross validation."
   ]
  },
  {
   "cell_type": "code",
   "execution_count": 10,
   "id": "8585e37c",
   "metadata": {},
   "outputs": [
    {
     "name": "stdout",
     "output_type": "stream",
     "text": [
      "After dimensionality reduction\n",
      "knn: 73.725%, 1.527%\n",
      "dtc: 65.174%, 3.083%\n",
      "lgr: 70.632%, 3.342%\n"
     ]
    }
   ],
   "source": [
    "pca = PCA(n_components=13)\n",
    "Xsr = pca.fit_transform(Xs)\n",
    "\n",
    "print(\"After dimensionality reduction\")\n",
    "for m in models:\n",
    "    scores = cross_val_score(models[m], Xsr, y, cv=kf, n_jobs=-1)\n",
    "    print(f\"{m}: {scores.mean():.3%}, {scores.std():.3%}\")"
   ]
  },
  {
   "cell_type": "code",
   "execution_count": null,
   "id": "61cc985f-f059-4e52-9b8a-4a6aa23d5ebf",
   "metadata": {},
   "outputs": [],
   "source": []
  }
 ],
 "metadata": {
  "kernelspec": {
   "display_name": "Python 3 (ipykernel)",
   "language": "python",
   "name": "python3"
  },
  "language_info": {
   "codemirror_mode": {
    "name": "ipython",
    "version": 3
   },
   "file_extension": ".py",
   "mimetype": "text/x-python",
   "name": "python",
   "nbconvert_exporter": "python",
   "pygments_lexer": "ipython3",
   "version": "3.11.3"
  }
 },
 "nbformat": 4,
 "nbformat_minor": 5
}
